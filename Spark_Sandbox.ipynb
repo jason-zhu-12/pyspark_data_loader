{
 "cells": [
  {
   "cell_type": "markdown",
   "id": "c78ac0ab",
   "metadata": {},
   "source": [
    "# Setup PySpark"
   ]
  },
  {
   "cell_type": "code",
   "execution_count": 1,
   "id": "9b89e6de",
   "metadata": {
    "scrolled": true
   },
   "outputs": [
    {
     "data": {
      "text/html": [
       "<style>.container { width:100% !important; }</style>"
      ],
      "text/plain": [
       "<IPython.core.display.HTML object>"
      ]
     },
     "metadata": {},
     "output_type": "display_data"
    },
    {
     "name": "stdout",
     "output_type": "stream",
     "text": [
      "22/08/31 14:12:03 WARN Utils: Your hostname, Jasons-MacBook-Air.local resolves to a loopback address: 127.0.0.1; using 192.168.2.47 instead (on interface en0)\n",
      "22/08/31 14:12:03 WARN Utils: Set SPARK_LOCAL_IP if you need to bind to another address\n",
      "22/08/31 14:12:03 WARN NativeCodeLoader: Unable to load native-hadoop library for your platform... using builtin-java classes where applicable\n"
     ]
    },
    {
     "name": "stderr",
     "output_type": "stream",
     "text": [
      "Setting default log level to \"WARN\".\n",
      "To adjust logging level use sc.setLogLevel(newLevel). For SparkR, use setLogLevel(newLevel).\n"
     ]
    }
   ],
   "source": [
    "from pyspark.sql import SparkSession\n",
    "from pyspark import SparkContext\n",
    "from pyspark import SparkConf\n",
    "import pyspark.sql.functions as F\n",
    "import os\n",
    "import pandas as pd\n",
    "import random\n",
    "import hashlib\n",
    "import itertools\n",
    "\n",
    "from IPython.display import display, HTML\n",
    "display(HTML(\"<style>.container { width:100% !important; }</style>\"))\n",
    "#os.environ['PYSPARK_SUBMIT_ARGS'] = \\\n",
    "#  '--org.postgresql.Driver /Users/tbiytc/Desktop/LifeZ_Data/postgresql-42.4.1.jar pyspark-shell'\n",
    "#sc = SparkContext()\n",
    "conf = SparkConf()  # create the configuration\n",
    "conf.setMaster(\"local\")\n",
    "conf.set(\"spark.jars\", \"./postgresql-42.4.1.jar\")\n",
    "conf.set(\"spark.sql.execution.arrow.pyspark.enabled\", \"true\")\n",
    "spark = SparkSession.builder\\\n",
    "                    .config(conf = conf)\\\n",
    "                    .appName('test').getOrCreate()\n",
    "sc = SparkContext.getOrCreate()"
   ]
  },
  {
   "cell_type": "code",
   "execution_count": 2,
   "id": "8ae43923",
   "metadata": {},
   "outputs": [
    {
     "data": {
      "text/html": [
       "\n",
       "            <div>\n",
       "                <p><b>SparkSession - in-memory</b></p>\n",
       "                \n",
       "        <div>\n",
       "            <p><b>SparkContext</b></p>\n",
       "\n",
       "            <p><a href=\"http://192.168.2.47:4040\">Spark UI</a></p>\n",
       "\n",
       "            <dl>\n",
       "              <dt>Version</dt>\n",
       "                <dd><code>v3.3.0</code></dd>\n",
       "              <dt>Master</dt>\n",
       "                <dd><code>local</code></dd>\n",
       "              <dt>AppName</dt>\n",
       "                <dd><code>test</code></dd>\n",
       "            </dl>\n",
       "        </div>\n",
       "        \n",
       "            </div>\n",
       "        "
      ],
      "text/plain": [
       "<pyspark.sql.session.SparkSession at 0x7fa6f0bdbb20>"
      ]
     },
     "execution_count": 2,
     "metadata": {},
     "output_type": "execute_result"
    }
   ],
   "source": [
    "spark"
   ]
  },
  {
   "cell_type": "markdown",
   "id": "edeb6937",
   "metadata": {},
   "source": [
    "---"
   ]
  },
  {
   "cell_type": "markdown",
   "id": "1571dddf",
   "metadata": {},
   "source": [
    "## Names & Entities Definition"
   ]
  },
  {
   "cell_type": "code",
   "execution_count": 1,
   "id": "587299ef",
   "metadata": {},
   "outputs": [],
   "source": [
    "# Set up the database names and accesses\n",
    "db_name = \"test\"\n",
    "db_usrname = \"username\"\n",
    "db_pssword = \"password\""
   ]
  },
  {
   "cell_type": "markdown",
   "id": "9958e521",
   "metadata": {},
   "source": [
    "## Demo Creating and Loading Spark Table"
   ]
  },
  {
   "cell_type": "code",
   "execution_count": 3,
   "id": "144286b1",
   "metadata": {},
   "outputs": [
    {
     "name": "stderr",
     "output_type": "stream",
     "text": [
      "\r",
      "[Stage 0:>                                                          (0 + 1) / 1]\r"
     ]
    },
    {
     "name": "stdout",
     "output_type": "stream",
     "text": [
      "+--------+-----------+\n",
      "|language|users_count|\n",
      "+--------+-----------+\n",
      "| English|    1000000|\n",
      "| Chinese|10000000000|\n",
      "+--------+-----------+\n",
      "\n"
     ]
    },
    {
     "name": "stderr",
     "output_type": "stream",
     "text": [
      "\r",
      "                                                                                \r"
     ]
    }
   ],
   "source": [
    "data = [(\"English\", \"1000000\"), (\"Chinese\", \"10000000000\")]\n",
    "columns = [\"language\", \"users_count\"]\n",
    "df = spark.createDataFrame(data).toDF(*columns)\n",
    "df.show()"
   ]
  },
  {
   "cell_type": "code",
   "execution_count": 6,
   "id": "ad3db0fd",
   "metadata": {},
   "outputs": [
    {
     "name": "stderr",
     "output_type": "stream",
     "text": [
      "                                                                                \r"
     ]
    }
   ],
   "source": [
    "df.write.format('jdbc').options(\n",
    "  url=f'jdbc:postgresql://localhost:5432/{db_name}',\n",
    "  driver='org.postgresql.Driver',\n",
    "  dbtable='test_table',\n",
    "  user=db_usrname,\n",
    "  password=db_pssword).mode('append').save()"
   ]
  },
  {
   "cell_type": "markdown",
   "id": "c918fcb0",
   "metadata": {},
   "source": [
    "---"
   ]
  },
  {
   "cell_type": "markdown",
   "id": "27ff00ab",
   "metadata": {},
   "source": [
    "# Data Simulation for Coursera Interview Practice"
   ]
  },
  {
   "cell_type": "markdown",
   "id": "be7d2ea6",
   "metadata": {},
   "source": [
    "## Data Creation"
   ]
  },
  {
   "cell_type": "markdown",
   "id": "c302a05d",
   "metadata": {},
   "source": [
    "### CUSTOMERS"
   ]
  },
  {
   "cell_type": "code",
   "execution_count": 10,
   "id": "792da43a",
   "metadata": {},
   "outputs": [],
   "source": [
    "cust_cols = ['customer_id', 'customer_first_name', 'customer_last_name', 'customer_email', 'customer_region']"
   ]
  },
  {
   "cell_type": "code",
   "execution_count": 11,
   "id": "9a1bbb8b",
   "metadata": {},
   "outputs": [],
   "source": [
    "# first_name, last_name, email - 2000\n",
    "cust_name = pd.read_csv(\"customer_names_emails.tsv\", sep=\"\\t\")"
   ]
  },
  {
   "cell_type": "code",
   "execution_count": 39,
   "id": "7c8426ef",
   "metadata": {},
   "outputs": [],
   "source": [
    "# Augmentation\n",
    "# region\n",
    "regions = ['Canada', 'USA', 'Mexico']\n",
    "cust_name['customer_region'] = random.choices(regions, k=len(cust_name))\n",
    "# id\n",
    "cust_name['customer_id'] = ''\n",
    "for i in range(len(cust_name)):\n",
    "    cust_name['customer_id'].loc[i] = hashlib.md5(cust_name['customer_email'].loc[i].encode()).hexdigest()"
   ]
  },
  {
   "cell_type": "code",
   "execution_count": 40,
   "id": "5f248186",
   "metadata": {},
   "outputs": [
    {
     "data": {
      "text/html": [
       "<div>\n",
       "<style scoped>\n",
       "    .dataframe tbody tr th:only-of-type {\n",
       "        vertical-align: middle;\n",
       "    }\n",
       "\n",
       "    .dataframe tbody tr th {\n",
       "        vertical-align: top;\n",
       "    }\n",
       "\n",
       "    .dataframe thead th {\n",
       "        text-align: right;\n",
       "    }\n",
       "</style>\n",
       "<table border=\"1\" class=\"dataframe\">\n",
       "  <thead>\n",
       "    <tr style=\"text-align: right;\">\n",
       "      <th></th>\n",
       "      <th>customer_first_name</th>\n",
       "      <th>customer_last_name</th>\n",
       "      <th>customer_email</th>\n",
       "      <th>customer_region</th>\n",
       "      <th>customer_id</th>\n",
       "    </tr>\n",
       "  </thead>\n",
       "  <tbody>\n",
       "    <tr>\n",
       "      <th>0</th>\n",
       "      <td>Wanda</td>\n",
       "      <td>Butler</td>\n",
       "      <td>wanda.butler@gmail.com</td>\n",
       "      <td>USA</td>\n",
       "      <td>af57bdefc43ed1a97aa1a669e537250d</td>\n",
       "    </tr>\n",
       "    <tr>\n",
       "      <th>1</th>\n",
       "      <td>Chloe</td>\n",
       "      <td>Edmunds</td>\n",
       "      <td>chloe.edmunds@gmail.com</td>\n",
       "      <td>Mexico</td>\n",
       "      <td>a628dca7a8e505f448b8801077486593</td>\n",
       "    </tr>\n",
       "    <tr>\n",
       "      <th>2</th>\n",
       "      <td>Tim</td>\n",
       "      <td>Dyer</td>\n",
       "      <td>tim.dyer@gmail.com</td>\n",
       "      <td>Canada</td>\n",
       "      <td>33c344a6bf09299998dc3634df4ec292</td>\n",
       "    </tr>\n",
       "    <tr>\n",
       "      <th>3</th>\n",
       "      <td>Diana</td>\n",
       "      <td>Lambert</td>\n",
       "      <td>diana.lambert@gmail.com</td>\n",
       "      <td>USA</td>\n",
       "      <td>61bacbc3071913a43adc4f6a72c0f387</td>\n",
       "    </tr>\n",
       "    <tr>\n",
       "      <th>4</th>\n",
       "      <td>Neil</td>\n",
       "      <td>North</td>\n",
       "      <td>neil.north@gmail.com</td>\n",
       "      <td>Canada</td>\n",
       "      <td>a72e8d3eca0cafd7ae2ad15f49233c52</td>\n",
       "    </tr>\n",
       "  </tbody>\n",
       "</table>\n",
       "</div>"
      ],
      "text/plain": [
       "  customer_first_name customer_last_name           customer_email  \\\n",
       "0               Wanda             Butler   wanda.butler@gmail.com   \n",
       "1               Chloe            Edmunds  chloe.edmunds@gmail.com   \n",
       "2                 Tim               Dyer       tim.dyer@gmail.com   \n",
       "3               Diana            Lambert  diana.lambert@gmail.com   \n",
       "4                Neil              North     neil.north@gmail.com   \n",
       "\n",
       "  customer_region                       customer_id  \n",
       "0             USA  af57bdefc43ed1a97aa1a669e537250d  \n",
       "1          Mexico  a628dca7a8e505f448b8801077486593  \n",
       "2          Canada  33c344a6bf09299998dc3634df4ec292  \n",
       "3             USA  61bacbc3071913a43adc4f6a72c0f387  \n",
       "4          Canada  a72e8d3eca0cafd7ae2ad15f49233c52  "
      ]
     },
     "execution_count": 40,
     "metadata": {},
     "output_type": "execute_result"
    }
   ],
   "source": [
    "cust_name.head()"
   ]
  },
  {
   "cell_type": "markdown",
   "id": "dac6bcd7",
   "metadata": {},
   "source": [
    "### COURSES"
   ]
  },
  {
   "cell_type": "code",
   "execution_count": 113,
   "id": "c4737486",
   "metadata": {},
   "outputs": [],
   "source": [
    "course_cols = ['course_id', 'course_title', 'course_creator', 'course_description', 'course_segments', 'course_specialization']"
   ]
  },
  {
   "cell_type": "code",
   "execution_count": 114,
   "id": "5c7ca8a1",
   "metadata": {},
   "outputs": [],
   "source": [
    "courses = pd.read_csv(\"courses.tsv\", sep=\"\\t\")"
   ]
  },
  {
   "cell_type": "code",
   "execution_count": 115,
   "id": "806d5cb2",
   "metadata": {},
   "outputs": [
    {
     "data": {
      "text/html": [
       "<div>\n",
       "<style scoped>\n",
       "    .dataframe tbody tr th:only-of-type {\n",
       "        vertical-align: middle;\n",
       "    }\n",
       "\n",
       "    .dataframe tbody tr th {\n",
       "        vertical-align: top;\n",
       "    }\n",
       "\n",
       "    .dataframe thead th {\n",
       "        text-align: right;\n",
       "    }\n",
       "</style>\n",
       "<table border=\"1\" class=\"dataframe\">\n",
       "  <thead>\n",
       "    <tr style=\"text-align: right;\">\n",
       "      <th></th>\n",
       "      <th>course_title</th>\n",
       "      <th>course_creator</th>\n",
       "      <th>course_description</th>\n",
       "      <th>course_segments</th>\n",
       "    </tr>\n",
       "  </thead>\n",
       "  <tbody>\n",
       "    <tr>\n",
       "      <th>0</th>\n",
       "      <td>Introduction to Machine Learning</td>\n",
       "      <td>Andrew Ng</td>\n",
       "      <td>A comprehensive introduction course to the top...</td>\n",
       "      <td>10</td>\n",
       "    </tr>\n",
       "    <tr>\n",
       "      <th>1</th>\n",
       "      <td>Evolutionary Biology</td>\n",
       "      <td>Charles Darwin</td>\n",
       "      <td>The gradual introduction to the concept of \"Su...</td>\n",
       "      <td>8</td>\n",
       "    </tr>\n",
       "    <tr>\n",
       "      <th>2</th>\n",
       "      <td>Time Travel</td>\n",
       "      <td>Christopher Nolan</td>\n",
       "      <td>How modern cinema intertwines with valid physi...</td>\n",
       "      <td>9</td>\n",
       "    </tr>\n",
       "    <tr>\n",
       "      <th>3</th>\n",
       "      <td>KPop Culture and Gen-Z Career Choices</td>\n",
       "      <td>BTS</td>\n",
       "      <td>How k-pop culture is intergrated with gen-z's ...</td>\n",
       "      <td>4</td>\n",
       "    </tr>\n",
       "  </tbody>\n",
       "</table>\n",
       "</div>"
      ],
      "text/plain": [
       "                            course_title     course_creator  \\\n",
       "0       Introduction to Machine Learning          Andrew Ng   \n",
       "1                   Evolutionary Biology     Charles Darwin   \n",
       "2                            Time Travel  Christopher Nolan   \n",
       "3  KPop Culture and Gen-Z Career Choices                BTS   \n",
       "\n",
       "                                  course_description  course_segments  \n",
       "0  A comprehensive introduction course to the top...               10  \n",
       "1  The gradual introduction to the concept of \"Su...                8  \n",
       "2  How modern cinema intertwines with valid physi...                9  \n",
       "3  How k-pop culture is intergrated with gen-z's ...                4  "
      ]
     },
     "execution_count": 115,
     "metadata": {},
     "output_type": "execute_result"
    }
   ],
   "source": [
    "courses"
   ]
  },
  {
   "cell_type": "code",
   "execution_count": 116,
   "id": "20bccfe9",
   "metadata": {
    "scrolled": true
   },
   "outputs": [
    {
     "name": "stderr",
     "output_type": "stream",
     "text": [
      "/var/folders/g0/sjz9z70n6hz970q66wzvv4040000gn/T/ipykernel_43382/1849151588.py:8: SettingWithCopyWarning: \n",
      "A value is trying to be set on a copy of a slice from a DataFrame\n",
      "\n",
      "See the caveats in the documentation: https://pandas.pydata.org/pandas-docs/stable/user_guide/indexing.html#returning-a-view-versus-a-copy\n",
      "  courses['course_id'].loc[i] = hashlib.md5(f\"{courses['course_title'].loc[i]}_{courses['course_creator'].loc[i]}\".encode()).hexdigest()\n"
     ]
    }
   ],
   "source": [
    "# Augmentation\n",
    "# specialization\n",
    "specs = ['Machine Learning', 'Modern Culture', 'Biology & Physics']\n",
    "courses['course_specialization'] = ['Machine Learning', 'Biophysics', 'Biophysics', 'Society & Culture']\n",
    "# course id\n",
    "courses['course_id'] = ''\n",
    "for i in range(len(courses)):\n",
    "    courses['course_id'].loc[i] = hashlib.md5(f\"{courses['course_title'].loc[i]}_{courses['course_creator'].loc[i]}\".encode()).hexdigest()"
   ]
  },
  {
   "cell_type": "code",
   "execution_count": 117,
   "id": "2a6ce57a",
   "metadata": {},
   "outputs": [
    {
     "data": {
      "text/html": [
       "<div>\n",
       "<style scoped>\n",
       "    .dataframe tbody tr th:only-of-type {\n",
       "        vertical-align: middle;\n",
       "    }\n",
       "\n",
       "    .dataframe tbody tr th {\n",
       "        vertical-align: top;\n",
       "    }\n",
       "\n",
       "    .dataframe thead th {\n",
       "        text-align: right;\n",
       "    }\n",
       "</style>\n",
       "<table border=\"1\" class=\"dataframe\">\n",
       "  <thead>\n",
       "    <tr style=\"text-align: right;\">\n",
       "      <th></th>\n",
       "      <th>course_title</th>\n",
       "      <th>course_creator</th>\n",
       "      <th>course_description</th>\n",
       "      <th>course_segments</th>\n",
       "      <th>course_specialization</th>\n",
       "      <th>course_id</th>\n",
       "    </tr>\n",
       "  </thead>\n",
       "  <tbody>\n",
       "    <tr>\n",
       "      <th>0</th>\n",
       "      <td>Introduction to Machine Learning</td>\n",
       "      <td>Andrew Ng</td>\n",
       "      <td>A comprehensive introduction course to the top...</td>\n",
       "      <td>10</td>\n",
       "      <td>Machine Learning</td>\n",
       "      <td>498e77f7864d53426ff4f60247bfac0a</td>\n",
       "    </tr>\n",
       "    <tr>\n",
       "      <th>1</th>\n",
       "      <td>Evolutionary Biology</td>\n",
       "      <td>Charles Darwin</td>\n",
       "      <td>The gradual introduction to the concept of \"Su...</td>\n",
       "      <td>8</td>\n",
       "      <td>Biophysics</td>\n",
       "      <td>9f6dec2eba4af6a4edaf035d228d7909</td>\n",
       "    </tr>\n",
       "    <tr>\n",
       "      <th>2</th>\n",
       "      <td>Time Travel</td>\n",
       "      <td>Christopher Nolan</td>\n",
       "      <td>How modern cinema intertwines with valid physi...</td>\n",
       "      <td>9</td>\n",
       "      <td>Biophysics</td>\n",
       "      <td>31b66379aed0c402de873e0bc089a1b1</td>\n",
       "    </tr>\n",
       "    <tr>\n",
       "      <th>3</th>\n",
       "      <td>KPop Culture and Gen-Z Career Choices</td>\n",
       "      <td>BTS</td>\n",
       "      <td>How k-pop culture is intergrated with gen-z's ...</td>\n",
       "      <td>4</td>\n",
       "      <td>Society &amp; Culture</td>\n",
       "      <td>77c3c2e3c364464e7bf930cc4d30fa97</td>\n",
       "    </tr>\n",
       "  </tbody>\n",
       "</table>\n",
       "</div>"
      ],
      "text/plain": [
       "                            course_title     course_creator  \\\n",
       "0       Introduction to Machine Learning          Andrew Ng   \n",
       "1                   Evolutionary Biology     Charles Darwin   \n",
       "2                            Time Travel  Christopher Nolan   \n",
       "3  KPop Culture and Gen-Z Career Choices                BTS   \n",
       "\n",
       "                                  course_description  course_segments  \\\n",
       "0  A comprehensive introduction course to the top...               10   \n",
       "1  The gradual introduction to the concept of \"Su...                8   \n",
       "2  How modern cinema intertwines with valid physi...                9   \n",
       "3  How k-pop culture is intergrated with gen-z's ...                4   \n",
       "\n",
       "  course_specialization                         course_id  \n",
       "0      Machine Learning  498e77f7864d53426ff4f60247bfac0a  \n",
       "1            Biophysics  9f6dec2eba4af6a4edaf035d228d7909  \n",
       "2            Biophysics  31b66379aed0c402de873e0bc089a1b1  \n",
       "3     Society & Culture  77c3c2e3c364464e7bf930cc4d30fa97  "
      ]
     },
     "execution_count": 117,
     "metadata": {},
     "output_type": "execute_result"
    }
   ],
   "source": [
    "courses.head()"
   ]
  },
  {
   "cell_type": "markdown",
   "id": "79e4865c",
   "metadata": {},
   "source": [
    "### COURSE_STUDENT_AGGREGATION"
   ]
  },
  {
   "cell_type": "code",
   "execution_count": 58,
   "id": "7e557d0c",
   "metadata": {},
   "outputs": [],
   "source": [
    "agg_cols = ['student_id', 'course_id', 'enrolment_tmstmp']"
   ]
  },
  {
   "cell_type": "code",
   "execution_count": 82,
   "id": "42bf3e19",
   "metadata": {},
   "outputs": [],
   "source": [
    "# Build dataframe\n",
    "df_agg = pd.DataFrame()"
   ]
  },
  {
   "cell_type": "code",
   "execution_count": 83,
   "id": "6d588166",
   "metadata": {},
   "outputs": [],
   "source": [
    "from random import randrange\n",
    "from datetime import timedelta\n",
    "\n",
    "def random_date(start, end):\n",
    "    delta = end - start\n",
    "    int_delta = (delta.days * 24 * 60 * 60) + delta.seconds\n",
    "    random_second = randrange(int_delta)\n",
    "    return start + timedelta(seconds=random_second)\n",
    "\n",
    "from datetime import datetime\n",
    "d1 = datetime.strptime('1/1/2018 12:00 AM', '%m/%d/%Y %I:%M %p')\n",
    "d2 = datetime.strptime('1/1/2022 12:00 AM', '%m/%d/%Y %I:%M %p')"
   ]
  },
  {
   "cell_type": "code",
   "execution_count": 95,
   "id": "8a2f7f0f",
   "metadata": {},
   "outputs": [],
   "source": [
    "# Merge things in a way that makes sense\n",
    "# student_id x course_id combinations\n",
    "combos = list(itertools.product(list(set(cust_name['customer_id'])), list(set(courses['course_id']))))\n",
    "agg_selections = random.sample(combos, 5000)"
   ]
  },
  {
   "cell_type": "code",
   "execution_count": 96,
   "id": "784fb638",
   "metadata": {},
   "outputs": [],
   "source": [
    "# Separate the columns\n",
    "student_ids = [x[0] for x in agg_selections]\n",
    "course_ids = [x[1] for x in agg_selections]"
   ]
  },
  {
   "cell_type": "code",
   "execution_count": 99,
   "id": "6e540346",
   "metadata": {},
   "outputs": [],
   "source": [
    "df_agg['student_id'] = student_ids\n",
    "df_agg['course_id'] = course_ids"
   ]
  },
  {
   "cell_type": "code",
   "execution_count": 124,
   "id": "a784e8a3",
   "metadata": {},
   "outputs": [],
   "source": [
    "# Augmentation\n",
    "# Timestamp\n",
    "df_agg['enrolment_tmstmp'] = ''\n",
    "for i in range(len(df_agg)):\n",
    "    df_agg['enrolment_tmstmp'].loc[i] = random_date(d1, d2)\n",
    "# student_course_id\n",
    "df_agg['student_course_id'] = ''\n",
    "for i in range(len(df_agg)):\n",
    "    df_agg['student_course_id'].loc[i] = hashlib.md5(f\"{df_agg['student_id'].loc[i]}_{df_agg['course_id'].loc[i]}\".encode()).hexdigest()"
   ]
  },
  {
   "cell_type": "code",
   "execution_count": 125,
   "id": "88efe79a",
   "metadata": {},
   "outputs": [
    {
     "data": {
      "text/html": [
       "<div>\n",
       "<style scoped>\n",
       "    .dataframe tbody tr th:only-of-type {\n",
       "        vertical-align: middle;\n",
       "    }\n",
       "\n",
       "    .dataframe tbody tr th {\n",
       "        vertical-align: top;\n",
       "    }\n",
       "\n",
       "    .dataframe thead th {\n",
       "        text-align: right;\n",
       "    }\n",
       "</style>\n",
       "<table border=\"1\" class=\"dataframe\">\n",
       "  <thead>\n",
       "    <tr style=\"text-align: right;\">\n",
       "      <th></th>\n",
       "      <th>student_id</th>\n",
       "      <th>course_id</th>\n",
       "      <th>enrolment_tmstmp</th>\n",
       "      <th>student_course_id</th>\n",
       "    </tr>\n",
       "  </thead>\n",
       "  <tbody>\n",
       "    <tr>\n",
       "      <th>0</th>\n",
       "      <td>64b2bca78b3f5368413aa096fe092f05</td>\n",
       "      <td>498e77f7864d53426ff4f60247bfac0a</td>\n",
       "      <td>2020-10-09 15:11:11</td>\n",
       "      <td>cf38f7cf6c0fd04c48620bc409cee6ee</td>\n",
       "    </tr>\n",
       "    <tr>\n",
       "      <th>1</th>\n",
       "      <td>e95e045dc23014e4c0d54198ef93cd32</td>\n",
       "      <td>9f6dec2eba4af6a4edaf035d228d7909</td>\n",
       "      <td>2020-05-20 09:01:12</td>\n",
       "      <td>d5ba114554d1fb7cd71496ab280ebff7</td>\n",
       "    </tr>\n",
       "    <tr>\n",
       "      <th>2</th>\n",
       "      <td>5c072518cdfbad9ed6883bca153790a5</td>\n",
       "      <td>9f6dec2eba4af6a4edaf035d228d7909</td>\n",
       "      <td>2020-12-02 22:33:14</td>\n",
       "      <td>70fd4affaf8ab905e3e55be2cc8b8a7c</td>\n",
       "    </tr>\n",
       "    <tr>\n",
       "      <th>3</th>\n",
       "      <td>a19cec46e542e2c28023f6e11481fdef</td>\n",
       "      <td>31b66379aed0c402de873e0bc089a1b1</td>\n",
       "      <td>2018-06-01 19:22:21</td>\n",
       "      <td>5efffc6c39bd9b422dbdf124518fe3cd</td>\n",
       "    </tr>\n",
       "    <tr>\n",
       "      <th>4</th>\n",
       "      <td>b9997d085b2df603bacfe2cacaf5b18b</td>\n",
       "      <td>77c3c2e3c364464e7bf930cc4d30fa97</td>\n",
       "      <td>2019-07-25 17:34:21</td>\n",
       "      <td>ee642839a47385f423b7106d2f84dbf1</td>\n",
       "    </tr>\n",
       "  </tbody>\n",
       "</table>\n",
       "</div>"
      ],
      "text/plain": [
       "                         student_id                         course_id  \\\n",
       "0  64b2bca78b3f5368413aa096fe092f05  498e77f7864d53426ff4f60247bfac0a   \n",
       "1  e95e045dc23014e4c0d54198ef93cd32  9f6dec2eba4af6a4edaf035d228d7909   \n",
       "2  5c072518cdfbad9ed6883bca153790a5  9f6dec2eba4af6a4edaf035d228d7909   \n",
       "3  a19cec46e542e2c28023f6e11481fdef  31b66379aed0c402de873e0bc089a1b1   \n",
       "4  b9997d085b2df603bacfe2cacaf5b18b  77c3c2e3c364464e7bf930cc4d30fa97   \n",
       "\n",
       "      enrolment_tmstmp                 student_course_id  \n",
       "0  2020-10-09 15:11:11  cf38f7cf6c0fd04c48620bc409cee6ee  \n",
       "1  2020-05-20 09:01:12  d5ba114554d1fb7cd71496ab280ebff7  \n",
       "2  2020-12-02 22:33:14  70fd4affaf8ab905e3e55be2cc8b8a7c  \n",
       "3  2018-06-01 19:22:21  5efffc6c39bd9b422dbdf124518fe3cd  \n",
       "4  2019-07-25 17:34:21  ee642839a47385f423b7106d2f84dbf1  "
      ]
     },
     "execution_count": 125,
     "metadata": {},
     "output_type": "execute_result"
    }
   ],
   "source": [
    "df_agg.head()"
   ]
  },
  {
   "cell_type": "markdown",
   "id": "a4be5577",
   "metadata": {},
   "source": [
    "## Convert Into Spark Tables"
   ]
  },
  {
   "cell_type": "code",
   "execution_count": 105,
   "id": "3092258a",
   "metadata": {},
   "outputs": [
    {
     "name": "stderr",
     "output_type": "stream",
     "text": [
      "/opt/anaconda3/lib/python3.9/site-packages/pyspark/sql/pandas/conversion.py:425: UserWarning: createDataFrame attempted Arrow optimization because 'spark.sql.execution.arrow.pyspark.enabled' is set to true; however, failed by the reason below:\n",
      "  PyArrow >= 1.0.0 must be installed; however, it was not found.\n",
      "Attempting non-optimization as 'spark.sql.execution.arrow.pyspark.fallback.enabled' is set to true.\n",
      "  warn(msg)\n"
     ]
    }
   ],
   "source": [
    "# CUSTOMER - cust_name\n",
    "spark_cust_df = spark.createDataFrame(cust_name)"
   ]
  },
  {
   "cell_type": "code",
   "execution_count": 118,
   "id": "0f1e3324",
   "metadata": {},
   "outputs": [
    {
     "name": "stderr",
     "output_type": "stream",
     "text": [
      "/opt/anaconda3/lib/python3.9/site-packages/pyspark/sql/pandas/conversion.py:425: UserWarning: createDataFrame attempted Arrow optimization because 'spark.sql.execution.arrow.pyspark.enabled' is set to true; however, failed by the reason below:\n",
      "  PyArrow >= 1.0.0 must be installed; however, it was not found.\n",
      "Attempting non-optimization as 'spark.sql.execution.arrow.pyspark.fallback.enabled' is set to true.\n",
      "  warn(msg)\n"
     ]
    }
   ],
   "source": [
    "# COURSES - courses\n",
    "spark_cors_df = spark.createDataFrame(courses)"
   ]
  },
  {
   "cell_type": "code",
   "execution_count": 126,
   "id": "89f9c620",
   "metadata": {},
   "outputs": [
    {
     "name": "stderr",
     "output_type": "stream",
     "text": [
      "/opt/anaconda3/lib/python3.9/site-packages/pyspark/sql/pandas/conversion.py:425: UserWarning: createDataFrame attempted Arrow optimization because 'spark.sql.execution.arrow.pyspark.enabled' is set to true; however, failed by the reason below:\n",
      "  PyArrow >= 1.0.0 must be installed; however, it was not found.\n",
      "Attempting non-optimization as 'spark.sql.execution.arrow.pyspark.fallback.enabled' is set to true.\n",
      "  warn(msg)\n"
     ]
    }
   ],
   "source": [
    "# AGG - df_agg\n",
    "spark_dagg_df = spark.createDataFrame(df_agg)"
   ]
  },
  {
   "cell_type": "markdown",
   "id": "a691a188",
   "metadata": {},
   "source": [
    "## Data Ingestion"
   ]
  },
  {
   "cell_type": "code",
   "execution_count": 104,
   "id": "fa714e45",
   "metadata": {},
   "outputs": [],
   "source": [
    "import pandas as pd\n",
    "import os\n",
    "\n",
    "def write_to_db(data_frame, table_name):\n",
    "    data_frame.write.format('jdbc').options(\n",
    "              url=f'jdbc:postgresql://localhost:5432/{db_name}',\n",
    "              driver='org.postgresql.Driver',\n",
    "              dbtable=table_name,\n",
    "              user=db_usrname,\n",
    "              password=db_pssword).mode('append').save()\n",
    "    out_message = f\"Data frame {data_frame} has been appended to table {table_name} in the PostgreSQL database.\"\n",
    "    return out_message"
   ]
  },
  {
   "cell_type": "code",
   "execution_count": 110,
   "id": "80a7ae9c",
   "metadata": {},
   "outputs": [
    {
     "data": {
      "text/plain": [
       "'Data frame DataFrame[customer_first_name: string, customer_last_name: string, customer_email: string, customer_region: string, customer_id: string] has been appended to table customers in the PostgreSQL database.'"
      ]
     },
     "execution_count": 110,
     "metadata": {},
     "output_type": "execute_result"
    }
   ],
   "source": [
    "write_to_db(spark_cust_df, 'customers')"
   ]
  },
  {
   "cell_type": "code",
   "execution_count": 120,
   "id": "94462572",
   "metadata": {
    "scrolled": true
   },
   "outputs": [
    {
     "data": {
      "text/plain": [
       "'Data frame DataFrame[course_title: string, course_creator: string, course_description: string, course_segments: bigint, course_specialization: string, course_id: string] has been appended to table courses in the PostgreSQL database.'"
      ]
     },
     "execution_count": 120,
     "metadata": {},
     "output_type": "execute_result"
    }
   ],
   "source": [
    "write_to_db(spark_cors_df, 'courses')"
   ]
  },
  {
   "cell_type": "code",
   "execution_count": 127,
   "id": "0142675f",
   "metadata": {},
   "outputs": [
    {
     "name": "stderr",
     "output_type": "stream",
     "text": [
      "\r",
      "                                                                                \r"
     ]
    },
    {
     "data": {
      "text/plain": [
       "'Data frame DataFrame[student_id: string, course_id: string, enrolment_tmstmp: timestamp, student_course_id: string] has been appended to table course_student_agg in the PostgreSQL database.'"
      ]
     },
     "execution_count": 127,
     "metadata": {},
     "output_type": "execute_result"
    }
   ],
   "source": [
    "write_to_db(spark_dagg_df, 'course_student_agg')"
   ]
  },
  {
   "cell_type": "markdown",
   "id": "3c016f04",
   "metadata": {},
   "source": [
    "---"
   ]
  }
 ],
 "metadata": {
  "kernelspec": {
   "display_name": "Python 3 (ipykernel)",
   "language": "python",
   "name": "python3"
  },
  "language_info": {
   "codemirror_mode": {
    "name": "ipython",
    "version": 3
   },
   "file_extension": ".py",
   "mimetype": "text/x-python",
   "name": "python",
   "nbconvert_exporter": "python",
   "pygments_lexer": "ipython3",
   "version": "3.9.12"
  }
 },
 "nbformat": 4,
 "nbformat_minor": 5
}
