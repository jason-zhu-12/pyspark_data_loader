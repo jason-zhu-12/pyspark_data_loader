{
 "cells": [
  {
   "cell_type": "markdown",
   "id": "c78ac0ab",
   "metadata": {},
   "source": [
    "# Setup PySpark"
   ]
  },
  {
   "cell_type": "code",
   "execution_count": 56,
   "id": "9b89e6de",
   "metadata": {
    "scrolled": true
   },
   "outputs": [
    {
     "data": {
      "text/html": [
       "<style>.container { width:100% !important; }</style>"
      ],
      "text/plain": [
       "<IPython.core.display.HTML object>"
      ]
     },
     "metadata": {},
     "output_type": "display_data"
    }
   ],
   "source": [
    "from pyspark.sql import SparkSession\n",
    "from pyspark import SparkContext\n",
    "from pyspark import SparkConf\n",
    "import pyspark.sql.functions as F\n",
    "import os\n",
    "\n",
    "from IPython.display import display, HTML\n",
    "display(HTML(\"<style>.container { width:100% !important; }</style>\"))\n",
    "#os.environ['PYSPARK_SUBMIT_ARGS'] = \\\n",
    "#  '--org.postgresql.Driver /Users/tbiytc/Desktop/LifeZ_Data/postgresql-42.4.1.jar pyspark-shell'\n",
    "#sc = SparkContext()\n",
    "conf = SparkConf()  # create the configuration\n",
    "conf.setMaster(\"local\")\n",
    "conf.set(\"spark.jars\", \"./postgresql-42.4.1.jar\")\n",
    "conf.set(\"spark.sql.execution.arrow.pyspark.enabled\", \"true\")\n",
    "spark = SparkSession.builder\\\n",
    "                    .config(conf = conf)\\\n",
    "                    .appName('test').getOrCreate()\n",
    "sc = SparkContext.getOrCreate()"
   ]
  },
  {
   "cell_type": "code",
   "execution_count": 2,
   "id": "8ae43923",
   "metadata": {},
   "outputs": [
    {
     "data": {
      "text/html": [
       "\n",
       "            <div>\n",
       "                <p><b>SparkSession - in-memory</b></p>\n",
       "                \n",
       "        <div>\n",
       "            <p><b>SparkContext</b></p>\n",
       "\n",
       "            <p><a href=\"http://192.168.2.47:4040\">Spark UI</a></p>\n",
       "\n",
       "            <dl>\n",
       "              <dt>Version</dt>\n",
       "                <dd><code>v3.3.0</code></dd>\n",
       "              <dt>Master</dt>\n",
       "                <dd><code>local</code></dd>\n",
       "              <dt>AppName</dt>\n",
       "                <dd><code>test</code></dd>\n",
       "            </dl>\n",
       "        </div>\n",
       "        \n",
       "            </div>\n",
       "        "
      ],
      "text/plain": [
       "<pyspark.sql.session.SparkSession at 0x7fb47a3d8160>"
      ]
     },
     "execution_count": 2,
     "metadata": {},
     "output_type": "execute_result"
    }
   ],
   "source": [
    "spark"
   ]
  },
  {
   "cell_type": "markdown",
   "id": "9958e521",
   "metadata": {},
   "source": [
    "## Demo"
   ]
  },
  {
   "cell_type": "code",
   "execution_count": 3,
   "id": "144286b1",
   "metadata": {},
   "outputs": [
    {
     "name": "stderr",
     "output_type": "stream",
     "text": [
      "                                                                                \r"
     ]
    },
    {
     "name": "stdout",
     "output_type": "stream",
     "text": [
      "+--------+-----------+\n",
      "|language|users_count|\n",
      "+--------+-----------+\n",
      "| English|    1000000|\n",
      "| Chinese|10000000000|\n",
      "+--------+-----------+\n",
      "\n"
     ]
    }
   ],
   "source": [
    "data = [(\"English\", \"1000000\"), (\"Chinese\", \"10000000000\")]\n",
    "columns = [\"language\", \"users_count\"]\n",
    "df = spark.createDataFrame(data).toDF(*columns)\n",
    "df.show()"
   ]
  },
  {
   "cell_type": "code",
   "execution_count": 6,
   "id": "ad3db0fd",
   "metadata": {},
   "outputs": [
    {
     "name": "stderr",
     "output_type": "stream",
     "text": [
      "                                                                                \r"
     ]
    }
   ],
   "source": [
    "df.write.format('jdbc').options(\n",
    "  url='jdbc:postgresql://localhost:5432/test',\n",
    "  driver='org.postgresql.Driver',\n",
    "  dbtable='test_table',\n",
    "  user='username',\n",
    "  password='password').mode('append').save()"
   ]
  },
  {
   "cell_type": "markdown",
   "id": "c918fcb0",
   "metadata": {},
   "source": [
    "---"
   ]
  },
  {
   "cell_type": "markdown",
   "id": "ebc852a2",
   "metadata": {},
   "source": [
    "# 10000-Patients Data"
   ]
  },
  {
   "cell_type": "code",
   "execution_count": 10,
   "id": "763aeed4",
   "metadata": {
    "collapsed": true
   },
   "outputs": [
    {
     "name": "stdout",
     "output_type": "stream",
     "text": [
      "+-------------+------------+--------------------+----------+----------------------------+--------------------+-------------------------+------------------------+----------------------+------------------+--------+-------------+\n",
      "|table_catalog|table_schema|          table_name|table_type|self_referencing_column_name|reference_generation|user_defined_type_catalog|user_defined_type_schema|user_defined_type_name|is_insertable_into|is_typed|commit_action|\n",
      "+-------------+------------+--------------------+----------+----------------------------+--------------------+-------------------------+------------------------+----------------------+------------------+--------+-------------+\n",
      "|       tbiytc|      public|          test_table|BASE TABLE|                        null|                null|                     null|                    null|                  null|               YES|      NO|         null|\n",
      "|       tbiytc|  pg_catalog|        pg_statistic|BASE TABLE|                        null|                null|                     null|                    null|                  null|               YES|      NO|         null|\n",
      "|       tbiytc|  pg_catalog|             pg_type|BASE TABLE|                        null|                null|                     null|                    null|                  null|               YES|      NO|         null|\n",
      "|       tbiytc|      public|           admission|BASE TABLE|                        null|                null|                     null|                    null|                  null|               YES|      NO|         null|\n",
      "|       tbiytc|  pg_catalog|    pg_foreign_table|BASE TABLE|                        null|                null|                     null|                    null|                  null|               YES|      NO|         null|\n",
      "|       tbiytc|  pg_catalog|           pg_authid|BASE TABLE|                        null|                null|                     null|                    null|                  null|               YES|      NO|         null|\n",
      "|       tbiytc|  pg_catalog|           pg_shadow|      VIEW|                        null|                null|                     null|                    null|                  null|                NO|      NO|         null|\n",
      "|       tbiytc|      public|             patient|BASE TABLE|                        null|                null|                     null|                    null|                  null|               YES|      NO|         null|\n",
      "|       tbiytc|  pg_catalog|pg_statistic_ext_...|BASE TABLE|                        null|                null|                     null|                    null|                  null|               YES|      NO|         null|\n",
      "|       tbiytc|  pg_catalog|            pg_roles|      VIEW|                        null|                null|                     null|                    null|                  null|                NO|      NO|         null|\n",
      "|       tbiytc|      public|           diagnosis|BASE TABLE|                        null|                null|                     null|                    null|                  null|               YES|      NO|         null|\n",
      "|       tbiytc|  pg_catalog|         pg_settings|      VIEW|                        null|                null|                     null|                    null|                  null|                NO|      NO|         null|\n",
      "|       tbiytc|  pg_catalog|    pg_file_settings|      VIEW|                        null|                null|                     null|                    null|                  null|                NO|      NO|         null|\n",
      "|       tbiytc|  pg_catalog|   pg_hba_file_rules|      VIEW|                        null|                null|                     null|                    null|                  null|                NO|      NO|         null|\n",
      "|       tbiytc|  pg_catalog|           pg_config|      VIEW|                        null|                null|                     null|                    null|                  null|                NO|      NO|         null|\n",
      "|       tbiytc|  pg_catalog|pg_shmem_allocations|      VIEW|                        null|                null|                     null|                    null|                  null|                NO|      NO|         null|\n",
      "|       tbiytc|  pg_catalog|pg_backend_memory...|      VIEW|                        null|                null|                     null|                    null|                  null|                NO|      NO|         null|\n",
      "|       tbiytc|  pg_catalog|pg_available_exte...|      VIEW|                        null|                null|                     null|                    null|                  null|                NO|      NO|         null|\n",
      "|       tbiytc|      public|                 lab|BASE TABLE|                        null|                null|                     null|                    null|                  null|               YES|      NO|         null|\n",
      "|       tbiytc|  pg_catalog|     pg_user_mapping|BASE TABLE|                        null|                null|                     null|                    null|                  null|               YES|      NO|         null|\n",
      "+-------------+------------+--------------------+----------+----------------------------+--------------------+-------------------------+------------------------+----------------------+------------------+--------+-------------+\n",
      "only showing top 20 rows\n",
      "\n"
     ]
    }
   ],
   "source": [
    "# Tables\n",
    "spark.read.format('jdbc'). \\\n",
    "     options(\n",
    "         url='jdbc:postgresql://localhost:5432/test', # database url (local, remote)\n",
    "         dbtable='information_schema.tables',\n",
    "         user='username',\n",
    "         password='password',\n",
    "         driver='org.postgresql.Driver'). \\\n",
    "     load().show()"
   ]
  },
  {
   "cell_type": "code",
   "execution_count": 80,
   "id": "fa714e45",
   "metadata": {},
   "outputs": [],
   "source": [
    "import pandas as pd\n",
    "import os\n",
    "\n",
    "def read_patient_files(filename):\n",
    "    with open(filename, 'r') as f:\n",
    "        file_content = f.readlines()\n",
    "    return file_content\n",
    "\n",
    "def write_to_db(data_frame, table_name):\n",
    "    data_frame.write.format('jdbc').options(\n",
    "              url='jdbc:postgresql://localhost:5432/tbiytc',\n",
    "              driver='org.postgresql.Driver',\n",
    "              dbtable=table_name,\n",
    "              user='tbiytc',\n",
    "              password='jason1995').mode('append').save()\n",
    "    out_message = f\"Data frame {data_frame} has been appended to table {table_name} in the PostgreSQL database.\"\n",
    "    return out_message"
   ]
  },
  {
   "cell_type": "code",
   "execution_count": 18,
   "id": "3d4f6f5f",
   "metadata": {},
   "outputs": [],
   "source": [
    "data_dir = \"./100000-Patients/\""
   ]
  },
  {
   "cell_type": "markdown",
   "id": "000436e5",
   "metadata": {},
   "source": [
    "Read data"
   ]
  },
  {
   "cell_type": "code",
   "execution_count": 74,
   "id": "fac4d456",
   "metadata": {},
   "outputs": [],
   "source": [
    "admission = spark.read.csv(data_dir+\"AdmissionsCorePopulatedTable.txt\", sep=\"\\t\", header=True)\n",
    "patient = spark.read.csv(data_dir+\"PatientCorePopulatedTable.txt\", sep=\"\\t\", header=True)\n",
    "diagnosis = spark.read.csv(data_dir+\"AdmissionsDiagnosesCorePopulatedTable.txt\", sep=\"\\t\", header=True)\n",
    "lab = spark.read.csv(data_dir+\"LabsCorePopulatedTable.txt\", sep=r'\\t', header=True)"
   ]
  },
  {
   "cell_type": "markdown",
   "id": "7b641035",
   "metadata": {},
   "source": [
    "Design database in Beekeeper Studio - DONE"
   ]
  },
  {
   "cell_type": "markdown",
   "id": "b35a495b",
   "metadata": {},
   "source": [
    "Column Mapping"
   ]
  },
  {
   "cell_type": "code",
   "execution_count": 62,
   "id": "41152e17",
   "metadata": {},
   "outputs": [],
   "source": [
    "admission_col_map = {\"PatientID\": \"patient_id\", \"AdmissionID\": \"admission_id\", \n",
    "                     \"AdmissionStartDate\": \"admission_start_date\", \"AdmissionEndDate\": \"admission_end_date\"}\n",
    "admission_val_map = {\"PatientID\": \"STRING\", \"AdmissionID\": \"STRING\",\n",
    "                     \"AdmissionStartDate\": \"DATE\", \"AdmissionEndDate\": \"DATE\"}"
   ]
  },
  {
   "cell_type": "code",
   "execution_count": 66,
   "id": "a38f9291",
   "metadata": {},
   "outputs": [],
   "source": [
    "patient_col_map = {\"PatientID\": \"patient_id\", \"PatientGender\": \"gender\", \n",
    "                   \"PatientDateOfBirth\": \"date_of_birth\", \"PatientRace\": \"ethnicity\",\n",
    "                   \"PatientMaritalStatus\": \"marital_status\", \"PatientLanguage\": \"language\",\n",
    "                   \"PatientPopulationPercentageBelowPoverty\": \"population_pct_below_poverty\"}\n",
    "patient_val_map = {\"PatientID\": \"STRING\", \"PatientGender\": \"STRING\",\n",
    "                   \"PatientDateOfBirth\": \"DATE\", \"PatientRace\": \"STRING\",\n",
    "                   \"PatientMaritalStatus\": \"STRING\", \"PatientLanguage\": \"STRING\",\n",
    "                   \"PatientPopulationPercentageBelowPoverty\": \"NUMERIC\"}"
   ]
  },
  {
   "cell_type": "code",
   "execution_count": 70,
   "id": "7fb8325e",
   "metadata": {},
   "outputs": [],
   "source": [
    "diagnosis_col_map = {\"PatientID\": \"patient_id\", \"AdmissionID\": \"admission_id\", \n",
    "                     \"PrimaryDiagnosisCode\": \"primary_diagnosis_code\", \"PrimaryDiagnosisDescription\": \"primary_diagnosis_description\"}\n",
    "diagnosis_val_map = {\"PatientID\": \"STRING\", \"AdmissionID\": \"STRING\",\n",
    "                     \"PrimaryDiagnosisCode\": \"STRING\", \"PrimaryDiagnosisDescription\": \"STRING\"}"
   ]
  },
  {
   "cell_type": "code",
   "execution_count": 90,
   "id": "494402a8",
   "metadata": {},
   "outputs": [],
   "source": [
    "lab_col_map = {\"PatientID\": \"patient_id\", \"AdmissionID\": \"admission_id\", \n",
    "               \"LabName\": \"lab_name\", \"LabValue\": \"lab_value\",\n",
    "               \"LabUnits\": \"lab_units\", \"LabDateTime\": \"lab_datetime\"}\n",
    "lab_val_map = {\"PatientID\": \"STRING\", \"AdmissionID\": \"STRING\", \n",
    "               \"LabName\": \"STRING\", \"LabValue\": \"NUMERIC\",\n",
    "               \"LabUnits\": \"STRING\", \"LabDateTime\": \"DATE\"}"
   ]
  },
  {
   "cell_type": "code",
   "execution_count": 77,
   "id": "dc19664d",
   "metadata": {
    "collapsed": true
   },
   "outputs": [
    {
     "name": "stdout",
     "output_type": "stream",
     "text": [
      "root\n",
      " |-- patient_id: string (nullable = true)\n",
      " |-- admission_id: string (nullable = true)\n",
      " |-- lab_name: string (nullable = true)\n",
      " |-- lab_value: decimal(38,18) (nullable = true)\n",
      " |-- lab_units: string (nullable = true)\n",
      " |-- lab_datetime: date (nullable = true)\n",
      "\n",
      "root\n",
      " |-- PatientID: string (nullable = true)\n",
      " |-- AdmissionID: string (nullable = true)\n",
      " |-- LabName: string (nullable = true)\n",
      " |-- LabValue: string (nullable = true)\n",
      " |-- LabUnits: string (nullable = true)\n",
      " |-- LabDateTime: string (nullable = true)\n",
      "\n"
     ]
    }
   ],
   "source": [
    "df = spark.read.format('jdbc').\\\n",
    "                options(\n",
    "    url='jdbc:postgresql://localhost:5432/test', \n",
    "    dbtable='lab',\n",
    "    user='username',\n",
    "    password='password',\n",
    "    driver='org.postgresql.Driver').load()\n",
    "df.printSchema()\n",
    "lab.printSchema()"
   ]
  },
  {
   "cell_type": "markdown",
   "id": "22dd5144",
   "metadata": {},
   "source": [
    "Necessary Transformations"
   ]
  },
  {
   "cell_type": "code",
   "execution_count": 60,
   "id": "3517e652",
   "metadata": {},
   "outputs": [],
   "source": [
    "admission_transformed = \\\n",
    "        admission.select(F.col(\"PatientID\").cast(admission_val_map[\"PatientID\"]).alias(admission_col_map[\"PatientID\"]),\n",
    "                         F.col(\"AdmissionID\").cast(admission_val_map[\"AdmissionID\"]).alias(admission_col_map[\"AdmissionID\"]),\n",
    "                         F.col(\"AdmissionStartDate\").cast(admission_val_map[\"AdmissionStartDate\"]).alias(admission_col_map[\"AdmissionStartDate\"]),\n",
    "                         F.col(\"AdmissionEndDate\").cast(admission_val_map[\"AdmissionEndDate\"]).alias(admission_col_map[\"AdmissionEndDate\"]))"
   ]
  },
  {
   "cell_type": "code",
   "execution_count": 67,
   "id": "7b6e4224",
   "metadata": {},
   "outputs": [],
   "source": [
    "patient_transformed = \\\n",
    "patient.select(F.col(\"PatientID\").cast(patient_val_map[\"PatientID\"]).alias(patient_col_map[\"PatientID\"]),\n",
    "               F.col(\"PatientGender\").cast(patient_val_map[\"PatientGender\"]).alias(patient_col_map[\"PatientGender\"]),\n",
    "               F.col(\"PatientDateOfBirth\").cast(patient_val_map[\"PatientDateOfBirth\"]).alias(patient_col_map[\"PatientDateOfBirth\"]),\n",
    "               F.col(\"PatientRace\").cast(patient_val_map[\"PatientRace\"]).alias(patient_col_map[\"PatientRace\"]),\n",
    "               F.col(\"PatientMaritalStatus\").cast(patient_val_map[\"PatientMaritalStatus\"]).alias(patient_col_map[\"PatientMaritalStatus\"]),\n",
    "               F.col(\"PatientLanguage\").cast(patient_val_map[\"PatientLanguage\"]).alias(patient_col_map[\"PatientLanguage\"]),\n",
    "               F.col(\"PatientPopulationPercentageBelowPoverty\")\\\n",
    "                    .cast(patient_val_map[\"PatientPopulationPercentageBelowPoverty\"]).alias(patient_col_map[\"PatientPopulationPercentageBelowPoverty\"]))"
   ]
  },
  {
   "cell_type": "code",
   "execution_count": 71,
   "id": "129a350b",
   "metadata": {},
   "outputs": [],
   "source": [
    "diagnosis_transformed = \\\n",
    "        diagnosis.select(F.col(\"PatientID\").cast(diagnosis_val_map[\"PatientID\"]).alias(diagnosis_col_map[\"PatientID\"]),\n",
    "                         F.col(\"AdmissionID\").cast(diagnosis_val_map[\"AdmissionID\"]).alias(diagnosis_col_map[\"AdmissionID\"]),\n",
    "                         F.col(\"PrimaryDiagnosisCode\").cast(diagnosis_val_map[\"PrimaryDiagnosisCode\"]).alias(diagnosis_col_map[\"PrimaryDiagnosisCode\"]),\n",
    "                         F.col(\"PrimaryDiagnosisDescription\")\\\n",
    "                              .cast(diagnosis_val_map[\"PrimaryDiagnosisDescription\"]).alias(diagnosis_col_map[\"PrimaryDiagnosisDescription\"]))"
   ]
  },
  {
   "cell_type": "code",
   "execution_count": 91,
   "id": "181d7f80",
   "metadata": {},
   "outputs": [],
   "source": [
    "lab_transformed = \\\n",
    "        lab.select(F.col(\"PatientID\").cast(lab_val_map[\"PatientID\"]).alias(lab_col_map[\"PatientID\"]),\n",
    "                   F.col(\"AdmissionID\").cast(lab_val_map[\"AdmissionID\"]).alias(lab_col_map[\"AdmissionID\"]),\n",
    "                   F.col(\"LabName\").cast(lab_val_map[\"LabName\"]).alias(lab_col_map[\"LabName\"]),\n",
    "                   F.col(\"LabValue\").cast(lab_val_map[\"LabValue\"]).alias(lab_col_map[\"LabValue\"]),\n",
    "                   F.col(\"LabUnits\").cast(lab_val_map[\"LabUnits\"]).alias(lab_col_map[\"LabUnits\"]),\n",
    "                   F.col(\"LabDateTime\").cast(lab_val_map[\"LabDateTime\"]).alias(lab_col_map[\"LabDateTime\"]))"
   ]
  },
  {
   "cell_type": "markdown",
   "id": "767c5279",
   "metadata": {},
   "source": [
    "Fit table into database"
   ]
  },
  {
   "cell_type": "code",
   "execution_count": 83,
   "id": "9586f101",
   "metadata": {},
   "outputs": [
    {
     "name": "stderr",
     "output_type": "stream",
     "text": [
      "                                                                                \r"
     ]
    },
    {
     "data": {
      "text/plain": [
       "'Data frame DataFrame[patient_id: string, admission_id: string, admission_start_date: date, admission_end_date: date] has been appended to table admission in the PostgreSQL database.'"
      ]
     },
     "execution_count": 83,
     "metadata": {},
     "output_type": "execute_result"
    }
   ],
   "source": [
    "write_to_db(admission_transformed, \"admission\")"
   ]
  },
  {
   "cell_type": "code",
   "execution_count": 84,
   "id": "2b3c87a3",
   "metadata": {},
   "outputs": [
    {
     "name": "stderr",
     "output_type": "stream",
     "text": [
      "                                                                                \r"
     ]
    },
    {
     "data": {
      "text/plain": [
       "'Data frame DataFrame[patient_id: string, gender: string, date_of_birth: date, ethnicity: string, marital_status: string, language: string, population_pct_below_poverty: decimal(10,0)] has been appended to table patient in the PostgreSQL database.'"
      ]
     },
     "execution_count": 84,
     "metadata": {},
     "output_type": "execute_result"
    }
   ],
   "source": [
    "write_to_db(patient_transformed, \"patient\")"
   ]
  },
  {
   "cell_type": "code",
   "execution_count": 85,
   "id": "533c65e2",
   "metadata": {},
   "outputs": [
    {
     "name": "stderr",
     "output_type": "stream",
     "text": [
      "                                                                                \r"
     ]
    },
    {
     "data": {
      "text/plain": [
       "'Data frame DataFrame[patient_id: string, admission_id: string, primary_diagnosis_code: string, primary_diagnosis_description: string] has been appended to table diagnosis in the PostgreSQL database.'"
      ]
     },
     "execution_count": 85,
     "metadata": {},
     "output_type": "execute_result"
    }
   ],
   "source": [
    "write_to_db(diagnosis_transformed, \"diagnosis\")"
   ]
  },
  {
   "cell_type": "code",
   "execution_count": 92,
   "id": "4f2316c0",
   "metadata": {
    "scrolled": true
   },
   "outputs": [
    {
     "name": "stderr",
     "output_type": "stream",
     "text": [
      "                                                                                \r"
     ]
    },
    {
     "data": {
      "text/plain": [
       "'Data frame DataFrame[patient_id: string, admission_id: string, lab_name: string, lab_value: decimal(10,0), lab_units: string, lab_datetime: date] has been appended to table lab in the PostgreSQL database.'"
      ]
     },
     "execution_count": 92,
     "metadata": {},
     "output_type": "execute_result"
    }
   ],
   "source": [
    "write_to_db(lab_transformed, \"lab\")"
   ]
  },
  {
   "cell_type": "markdown",
   "id": "614afee2",
   "metadata": {},
   "source": [
    "Test out the ability to query the database"
   ]
  },
  {
   "cell_type": "code",
   "execution_count": 93,
   "id": "94f72702",
   "metadata": {},
   "outputs": [],
   "source": [
    "# Tables\n",
    "df_test = spark.read.format('jdbc'). \\\n",
    "                     options(\n",
    "                         url='jdbc:postgresql://localhost:5432/test', # database url (local, remote)\n",
    "                         dbtable='admission',\n",
    "                         user='username',\n",
    "                         password='password',\n",
    "                         driver='org.postgresql.Driver').load()"
   ]
  },
  {
   "cell_type": "code",
   "execution_count": null,
   "id": "80a7ae9c",
   "metadata": {},
   "outputs": [],
   "source": []
  },
  {
   "cell_type": "code",
   "execution_count": null,
   "id": "94462572",
   "metadata": {},
   "outputs": [],
   "source": []
  },
  {
   "cell_type": "code",
   "execution_count": null,
   "id": "0142675f",
   "metadata": {},
   "outputs": [],
   "source": []
  }
 ],
 "metadata": {
  "kernelspec": {
   "display_name": "Python 3 (ipykernel)",
   "language": "python",
   "name": "python3"
  },
  "language_info": {
   "codemirror_mode": {
    "name": "ipython",
    "version": 3
   },
   "file_extension": ".py",
   "mimetype": "text/x-python",
   "name": "python",
   "nbconvert_exporter": "python",
   "pygments_lexer": "ipython3",
   "version": "3.9.12"
  }
 },
 "nbformat": 4,
 "nbformat_minor": 5
}
